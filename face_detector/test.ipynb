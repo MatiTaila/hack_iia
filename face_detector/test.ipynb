{
  "nbformat": 4,
  "nbformat_minor": 0,
  "metadata": {
    "kernelspec": {
      "display_name": "Python 3",
      "language": "python",
      "name": "python3"
    },
    "language_info": {
      "codemirror_mode": {
        "name": "ipython",
        "version": 3
      },
      "file_extension": ".py",
      "mimetype": "text/x-python",
      "name": "python",
      "nbconvert_exporter": "python",
      "pygments_lexer": "ipython3",
      "version": "3.7.3"
    },
    "colab": {
      "name": "test.ipynb",
      "provenance": [],
      "collapsed_sections": [],
      "include_colab_link": true
    }
  },
  "cells": [
    {
      "cell_type": "markdown",
      "metadata": {
        "id": "view-in-github",
        "colab_type": "text"
      },
      "source": [
        "<a href=\"https://colab.research.google.com/github/MatiTaila/hack_iia/blob/ia-2003/face_detector/test.ipynb\" target=\"_parent\"><img src=\"https://colab.research.google.com/assets/colab-badge.svg\" alt=\"Open In Colab\"/></a>"
      ]
    },
    {
      "cell_type": "markdown",
      "metadata": {
        "id": "yKx9QRiVe7Ng",
        "colab_type": "text"
      },
      "source": [
        "### Montar disco de Google Drive\n",
        "\n",
        "Para proder acceder a datos guardados en su google drive desde un notebook de colab es necesario ejecutar el siguiente código\n",
        "\n",
        "Esto va a ser necesario en todos los notebooks de este curso."
      ]
    },
    {
      "cell_type": "code",
      "metadata": {
        "id": "jb8g4ih0e4BF",
        "colab_type": "code",
        "colab": {}
      },
      "source": [
        "from google.colab import drive\n",
        "drive.mount('/content/drive')"
      ],
      "execution_count": 0,
      "outputs": []
    },
    {
      "cell_type": "markdown",
      "metadata": {
        "id": "DfzDCDHKeTFF",
        "colab_type": "text"
      },
      "source": [
        "# Testeo del algoritmo de reconocimiento facial\n",
        "\n",
        "Finalmente llegamos a la parte en que evaluamos el sistema de detección y reconocimiento facial.\n",
        "\n",
        "Vamos a utilizar el modelo que ya entrenamos para validar sobre nuestros datos de test. \n",
        "\n",
        "Para mostrar el reconocimiento de forma más amigable, lo primero que debemos hacer es asignarle un nombre a cada identificador. Para ello crearemos un vector de nombres, donde en cada posición correspondiente a cada identificador pondremos el nombre de la persona. Por ejemplo, como la persona asociada al identificador 1 es _Jennifer Aniston_ y la persona asociada al identificador 2 es _Bradd Pitt_ , armaremos nuestro vector como:\n",
        "```\n",
        "names = ['', 'Jennifer Aniston','Brad Pitt']\n",
        "\n",
        "```\n",
        "Notar que debemos dejar el primer elemento vacío, ya que los índices en `Python` comienzan en 0, y nosotros pusimos el primer identificador en 1."
      ]
    },
    {
      "cell_type": "code",
      "metadata": {
        "id": "hZPbOV-HeTFI",
        "colab_type": "code",
        "colab": {}
      },
      "source": [
        "import cv2\n",
        "import numpy as np\n",
        "import os\n",
        "from glob import glob\n",
        "import matplotlib.pyplot as plt\n",
        "\n",
        "# Definimos Carpetas y Archivos a Utilizar\n",
        "TEST_SET_PATH = '/content/drive/My Drive/hack_iia/face_detector/dataset/test'\n",
        "CASCADE_FILE = '/content/drive/My Drive/hack_iia/face_detector/default.xml'\n",
        "TRAINER_FILE = '/content/drive/My Drive/hack_iia/face_detector/trainer.yml'\n",
        "\n",
        "# Lista de nombres\n",
        "names = ['','Jennifer Aniston','Brad Pitt']\n",
        "\n",
        "# Inicializamos el detector de caras\n",
        "faceCascade = cv2.CascadeClassifier(CASCADE_FILE)\n",
        "\n",
        "# Inicializamos el reconocedor de caras\n",
        "reconocedor = cv2.face.LBPHFaceRecognizer_create()\n",
        "reconocedor.read(TRAINER_FILE)\n",
        "\n",
        "font = cv2.FONT_HERSHEY_SIMPLEX\n",
        "\n",
        "# Creamos una grilla de gráficas para poder mostrar la salida\n",
        "cols=5\n",
        "rows=7\n",
        "fig, ax = plt.subplots(rows,cols, figsize=(30,50))\n",
        "\n",
        "labels = []\n",
        "predictions = []\n",
        "\n",
        "for img_count, image_path in enumerate(glob(TEST_SET_PATH + '/*.jpg')):\n",
        "    \n",
        "    img_name = os.path.basename(image_path)\n",
        "    img = cv2.imread(image_path)\n",
        "    minW = 0.2 * img.shape[0]\n",
        "    minH = 0.2 * img.shape[1]\n",
        "    gray = cv2.cvtColor(img, cv2.COLOR_BGR2GRAY)\n",
        "    \n",
        "    # Detectamos caras\n",
        "    faces = faceCascade.detectMultiScale(\n",
        "        gray,\n",
        "        scaleFactor=1.3,\n",
        "        minNeighbors=5,\n",
        "        minSize=(int(minW), int(minH)))\n",
        "    \n",
        "    # Para cada cara detectada\n",
        "    for (x, y, w, h) in faces:\n",
        "\n",
        "        # Guardamos cual es la verdadera identidad de cada cara\n",
        "        if img_name[0]=='b':\n",
        "            labels.append(2)\n",
        "        elif img_name[0]=='j':\n",
        "            labels.append(1)\n",
        "\n",
        "        # Ponemos un rectángulo alrededor\n",
        "        cv2.rectangle(img, (x, y), (x + w, y + h), (0, 255, 0), 3)\n",
        "        # Ejecutamos el reconocimiento facial\n",
        "        id, dist = reconocedor.predict(gray[y:y + h, x:x + w])\n",
        "        # Checkeamos si la probabilidad es muy baja, decimos que no podemos reconocer ninguna cara\n",
        "        if (dist < 80):\n",
        "            #Guardamos el valor de la prediccion\n",
        "            predictions.append(id)\n",
        "            id = names[id]\n",
        "        else:\n",
        "            id = names[0]\n",
        "        # Superponemos el nombre y el score del clasificador\n",
        "        cv2.putText(img, str(id), (x + 5, y - 5), font, 1, (255, 255, 255), 3)\n",
        "        cv2.putText(img, '%.3f' % dist, (5, 30), font, 1, (0, 255, 255), 3)\n",
        "\n",
        "\n",
        "    ax[img_count//cols][img_count%cols].imshow(cv2.cvtColor(img,cv2.COLOR_BGR2RGB))\n",
        "    ax[img_count//cols][img_count%cols].set_xticks([])\n",
        "    ax[img_count//cols][img_count%cols].set_yticks([])\n",
        "\n",
        "plt.show()\n"
      ],
      "execution_count": 0,
      "outputs": []
    },
    {
      "cell_type": "markdown",
      "metadata": {
        "id": "mYZcTW6QVPn8",
        "colab_type": "text"
      },
      "source": [
        "## Evaluación Simple ##"
      ]
    },
    {
      "cell_type": "markdown",
      "metadata": {
        "id": "cSxHrRnDVWt5",
        "colab_type": "text"
      },
      "source": [
        "### Detección de Caras ###\n"
      ]
    },
    {
      "cell_type": "code",
      "metadata": {
        "id": "FRWW265vVY8h",
        "colab_type": "code",
        "colab": {}
      },
      "source": [
        "caras_totales = 35\n",
        "caras_detectadas = --\n",
        "caras_detectadas_true_positive = --\n",
        "caras_detectadas_false_positive = --\n",
        "caras_detectadas_false_negative = --"
      ],
      "execution_count": 0,
      "outputs": []
    },
    {
      "cell_type": "code",
      "metadata": {
        "id": "n_Olk7atVdqZ",
        "colab_type": "code",
        "colab": {}
      },
      "source": [
        "PRECISION = caras_detectadas_true_positive/(caras_detectadas_true_positive + caras_detectadas_false_positive)"
      ],
      "execution_count": 0,
      "outputs": []
    },
    {
      "cell_type": "code",
      "metadata": {
        "id": "KwLfoURvVhJ6",
        "colab_type": "code",
        "colab": {}
      },
      "source": [
        "RECALL = caras_detectadas_true_positive/(caras_detectadas_true_positive + caras_detectadas_false_negative)"
      ],
      "execution_count": 0,
      "outputs": []
    },
    {
      "cell_type": "code",
      "metadata": {
        "id": "HgCQLXafVmga",
        "colab_type": "code",
        "colab": {}
      },
      "source": [
        "print('PRECISON: {:f}'.format(PRECISION))"
      ],
      "execution_count": 0,
      "outputs": []
    },
    {
      "cell_type": "code",
      "metadata": {
        "id": "LmEwnLITVnhI",
        "colab_type": "code",
        "colab": {}
      },
      "source": [
        "print('RECALL: {:f}'.format(RECALL))"
      ],
      "execution_count": 0,
      "outputs": []
    },
    {
      "cell_type": "markdown",
      "metadata": {
        "id": "9vUAMzZGVvhH",
        "colab_type": "text"
      },
      "source": [
        "### Reconocimeinto Facial ###"
      ]
    },
    {
      "cell_type": "code",
      "metadata": {
        "id": "a8GGhMkqVpvv",
        "colab_type": "code",
        "colab": {}
      },
      "source": [
        "from sklearn.metrics import confusion_matrix\n",
        "import seaborn as sns\n",
        "\n",
        "confusion_mtx = confusion_matrix(labels, predictions) \n",
        "sns.heatmap(confusion_mtx, annot=True, fmt=\"d\", xticklabels=names[1:],yticklabels=names[:1], cbar=False);"
      ],
      "execution_count": 0,
      "outputs": []
    },
    {
      "cell_type": "code",
      "metadata": {
        "id": "wZ5NlSk4YJD2",
        "colab_type": "code",
        "colab": {}
      },
      "source": [
        "recognition_accuracy = sum(np.asarray(labels) == np.asarray(predictions))/len(predictions)*100"
      ],
      "execution_count": 0,
      "outputs": []
    },
    {
      "cell_type": "code",
      "metadata": {
        "id": "jMeLYN9-dGM5",
        "colab_type": "code",
        "colab": {}
      },
      "source": [
        "print(\"Recognition Accuracy: {}%\".format(recognition_accuracy))"
      ],
      "execution_count": 0,
      "outputs": []
    },
    {
      "cell_type": "markdown",
      "metadata": {
        "id": "AOgGTNVaeTFN",
        "colab_type": "text"
      },
      "source": [
        "## FIN"
      ]
    }
  ]
}