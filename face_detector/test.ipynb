{
 "cells": [
  {
   "cell_type": "markdown",
   "metadata": {},
   "source": [
    "# Testeo del algoritmo de reconocimiento facial\n",
    "\n",
    "Finalmente llegamos a la parte donde lo vemos funcionar.\n",
    "\n",
    "Vamos a volver a prender la cámara, detectar caras y para cada cara utilizar el modelo que ya entrenamos para el reconocimiento.\n",
    "\n",
    "Para mostrar el reconocimiento de forma más amigable, lo primero que debemos hacer es asignarle un nombre a cada identificador. Para ello crearemos un vector de nombres, donde en cada posición correspondiente a cada identificador pondremos el nombre de la persona. Por ejemplo, como la persona asociada al identificador 1 es _Matías_, armaremos nuestro vector como:\n",
    "```\n",
    "names = ['', 'Matias']\n",
    "```\n",
    "Notar que debemos dejar el primer elemento vacío, ya que los índices en `Python` comienzan en 0, y nosotros pusimos el primer identificador en 1."
   ]
  },
  {
   "cell_type": "code",
   "execution_count": 1,
   "metadata": {},
   "outputs": [],
   "source": [
    "import cv2\n",
    "import numpy as np\n",
    "import os\n",
    "\n",
    "# Lista de nombres\n",
    "names = ['', 'Matias']\n",
    "\n",
    "# Inicializamos el detector de caras\n",
    "faceCascade = cv2.CascadeClassifier(\"default.xml\")\n",
    "\n",
    "# Inicializamos el reconocedor de caras\n",
    "reconocedor = cv2.face.LBPHFaceRecognizer_create()\n",
    "reconocedor.read('trainer.yml')\n",
    "\n",
    "font = cv2.FONT_HERSHEY_SIMPLEX\n",
    "\n",
    "id = 0\n",
    "# Iniciamos la captura de video\n",
    "cam = cv2.VideoCapture(0)\n",
    "cam.set(3, 640)\n",
    "cam.set(4, 480)\n",
    "\n",
    "# Definimos un tamaño minimo para reconocer caras, para filtrar caras demasiado chicas\n",
    "minW = 0.1 * cam.get(3)\n",
    "minH = 0.1 * cam.get(4)\n",
    "\n",
    "while True:\n",
    "    ret, img = cam.read()\n",
    "    gray = cv2.cvtColor(img, cv2.COLOR_BGR2GRAY)\n",
    "\n",
    "    # Detectamos caras\n",
    "    faces = faceCascade.detectMultiScale(\n",
    "        gray,\n",
    "        scaleFactor=1.2,\n",
    "        minNeighbors=5,\n",
    "        minSize=(int(minW), int(minH)),\n",
    "    )\n",
    "    \n",
    "    # Para cada cara detectada\n",
    "    for (x, y, w, h) in faces:\n",
    "        # Ponemos un rectángulo alrededor\n",
    "        cv2.rectangle(img, (x, y), (x + w, y + h), (0, 255, 0), 2)\n",
    "        # Ejecutamos el reconocimiento facial\n",
    "        id, dist = reconocedor.predict(gray[y:y + h, x:x + w])\n",
    "        # Checkeamos si la probabilidad es muy baja, decimos que no podemos reconocer ninguna cara\n",
    "        if (dist < 80):\n",
    "            id = names[id]\n",
    "        else:\n",
    "            id = names[0]\n",
    "        # Superponemos el nombre\n",
    "        cv2.putText(img, str(id), (x + 5, y - 5), font, 1, (255, 255, 255), 2)\n",
    "\n",
    "    cv2.imshow('camera', img)\n",
    "    \n",
    "    # Mostramos la cámara hasta que se presione ESC\n",
    "    k = cv2.waitKey(10) & 0xff  \n",
    "    if k == 27:\n",
    "        break\n",
    "        \n",
    "cam.release()\n",
    "cv2.destroyAllWindows()"
   ]
  },
  {
   "cell_type": "markdown",
   "metadata": {},
   "source": [
    "## FIN"
   ]
  }
 ],
 "metadata": {
  "kernelspec": {
   "display_name": "Python 3",
   "language": "python",
   "name": "python3"
  },
  "language_info": {
   "codemirror_mode": {
    "name": "ipython",
    "version": 3
   },
   "file_extension": ".py",
   "mimetype": "text/x-python",
   "name": "python",
   "nbconvert_exporter": "python",
   "pygments_lexer": "ipython3",
   "version": "3.7.3"
  }
 },
 "nbformat": 4,
 "nbformat_minor": 2
}
