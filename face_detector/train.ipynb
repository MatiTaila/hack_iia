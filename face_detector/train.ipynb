{
  "nbformat": 4,
  "nbformat_minor": 0,
  "metadata": {
    "kernelspec": {
      "display_name": "Python 3",
      "language": "python",
      "name": "python3"
    },
    "language_info": {
      "codemirror_mode": {
        "name": "ipython",
        "version": 3
      },
      "file_extension": ".py",
      "mimetype": "text/x-python",
      "name": "python",
      "nbconvert_exporter": "python",
      "pygments_lexer": "ipython3",
      "version": "3.7.3"
    },
    "colab": {
      "name": "train.ipynb",
      "provenance": [],
      "collapsed_sections": [],
      "toc_visible": true,
      "include_colab_link": true
    }
  },
  "cells": [
    {
      "cell_type": "markdown",
      "metadata": {
        "id": "view-in-github",
        "colab_type": "text"
      },
      "source": [
        "<a href=\"https://colab.research.google.com/github/MatiTaila/hack_iia/blob/ia-2003/face_detector/train.ipynb\" target=\"_parent\"><img src=\"https://colab.research.google.com/assets/colab-badge.svg\" alt=\"Open In Colab\"/></a>"
      ]
    },
    {
      "cell_type": "markdown",
      "metadata": {
        "id": "qiN0ZS8COfcp",
        "colab_type": "text"
      },
      "source": [
        "## Montar Google Drive ##\n",
        "Para proder acceder a datos guardados en su google drive desde un notebook de colab es necesario ejecutar el siguiente código\n",
        "\n",
        "*Esto va a ser necesario en todos los notebooks de este curso.*\n"
      ]
    },
    {
      "cell_type": "code",
      "metadata": {
        "id": "cO5YxZiNOnqS",
        "colab_type": "code",
        "colab": {}
      },
      "source": [
        "from google.colab import drive\n",
        "drive.mount('/content/drive')"
      ],
      "execution_count": 0,
      "outputs": []
    },
    {
      "cell_type": "markdown",
      "metadata": {
        "id": "G-Gr8wz7omTr",
        "colab_type": "text"
      },
      "source": [
        "# Entrenamiento\n",
        "\n",
        "Acá es donde se hace el entrenamiento.\n",
        "\n",
        "1. Para cada una de las imágenes que guardamos en nuestra base de datos\n",
        "    1. Se detecta la cara de esta imagen y se guarda almacena en una variable.\n",
        "    2. Se obtiene el identificador de cada persona que agregamos a la base de datos, a partir del nombre del archivo.\n",
        "    3. Se guarda el identificador en otra variable, que será nuestra etiqueta para el entrenamiento.\n",
        "2. Se entrena el modelo\n",
        "\n",
        "Nuevamente la intención no es entrar en detalle ni en la extracción de características ni en el algoritmo de clasificación específico de este ejemplo, sino mostrar de punta a punta como se implementa un sistema de reconocimiento facial, entrenando un clasificador con la base de datos que nosotros mismos creamos.\n",
        "    "
      ]
    },
    {
      "cell_type": "code",
      "metadata": {
        "id": "nH-oddbMomTv",
        "colab_type": "code",
        "colab": {}
      },
      "source": [
        "import cv2\n",
        "import numpy as np\n",
        "from PIL import Image\n",
        "import os, glob\n",
        "\n",
        "# La carpeta donde guardamos nuestras imagenes previamente\n",
        "DATASET_PATH = '/content/drive/My Drive/hack_iia/face_detector/dataset/train'\n",
        "TRAINER_FILE = '/content/drive/My Drive/hack_iia/face_detector/trainer.yml'\n",
        "\n",
        "# Inicializaos el detector facial\n",
        "detector = cv2.CascadeClassifier(\"default.xml\")\n",
        "# Inicializaos el reconocedor facial\n",
        "reconocedor = cv2.face.LBPHFaceRecognizer_create()\n",
        "\n",
        "# Buscamso todas imagenes dentro de la carpeta donde esta nuestra base de datos\n",
        "imagePaths = glob.glob(DATASET_PATH + \"/*.jpg\")\n",
        "\n",
        "# Creamos las variables donde almacenaremos los datos para entrenar. Las caras y sus etiquetas\n",
        "faceSamples=[]\n",
        "ids = []\n",
        "\n",
        "# Para cada imagen:\n",
        "for imagePath in imagePaths:\n",
        "    # Cargamos la imagen y la convertimos a escala de grises\n",
        "    PIL_img = Image.open(imagePath).convert('L')\n",
        "    img_numpy = np.array(PIL_img,'uint8')\n",
        "    # Obtenemos el id de la cara a partir del nombre del archivo\n",
        "    id = int(os.path.split(imagePath)[-1].split(\".\")[1])\n",
        "\n",
        "    # Para cada cara agregamos a nuestras variables la cara y el id de la cara\n",
        "    faceSamples.append(img_numpy)\n",
        "    ids.append(id)\n",
        "\n",
        "# Proceso de entrenamiento\n",
        "print(\"\\n Empezando el proceso de entrenamiento. Va a tomar unos segundos, espere por favor...\")\n",
        "reconocedor.train(faceSamples, np.array(ids))\n",
        "\n",
        "# Guardamos el modelo en un archivo\n",
        "reconocedor.write(TRAINER_FILE) # recognizer.save()\n",
        "print(\"\\n Proceso terminado. Se entrenaron {0} cara(s)\".format(len(np.unique(ids))))"
      ],
      "execution_count": 0,
      "outputs": []
    },
    {
      "cell_type": "markdown",
      "metadata": {
        "id": "nbztV0KeomT3",
        "colab_type": "text"
      },
      "source": [
        "## FIN!"
      ]
    }
  ]
}