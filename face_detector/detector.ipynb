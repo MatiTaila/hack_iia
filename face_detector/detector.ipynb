{
 "cells": [
  {
   "cell_type": "markdown",
   "metadata": {},
   "source": [
    "# Detección de caras\n",
    "\n",
    "El primer paso para el reconocimiento de caras es la detección de las mismas.\n",
    "\n",
    "Para ello vamos a utilizar un modelo pre-entrenado de `opencv`, que nos permite localizar en una imagen las caras presentes. Los parámetros del clasificador se encuentran guardados en el archivo `default.xml`, que contiene la información necesaria para detectar si hay una cara o no en la imagen.\n",
    "\n",
    "Lo primero que vamos a hacer es invocar al contructor de este clasificador (clasifica en las clases _cara_/_no cara_). Luego para cada cuadro que la cámara toma, le pedimos al clasificador que detecte las caras presentes en la imagen, y por último para cada cara detectada creamos un rectángulo alrededor como indicador.\n",
    "\n",
    "La idea de este ejercicio es no centrarse en la parte de clasificación _cara_/_no cara_, sino entrenar un nuevo clasificador para el reconocimiento de las caras, es decir identificar a quién pertenece cada cara detectada.\n"
   ]
  },
  {
   "cell_type": "code",
   "execution_count": 1,
   "metadata": {},
   "outputs": [],
   "source": [
    "import cv2\n",
    "\n",
    "# Invocamos al contructor para la detección facial\n",
    "faceCascade = cv2.CascadeClassifier('default.xml')\n",
    "\n",
    "cap = cv2.VideoCapture(0)\n",
    "cap.set(3,640)\n",
    "cap.set(4,480)\n",
    "\n",
    "while True:\n",
    "    ret, img = cap.read()\n",
    "    # img = cv2.flip(img, -1)\n",
    "    \n",
    "    # Convertimos la imagen a escala de grises\n",
    "    gray = cv2.cvtColor(img, cv2.COLOR_BGR2GRAY)\n",
    "    \n",
    "    # Detección de caras propiamente dicha\n",
    "    faces = faceCascade.detectMultiScale(\n",
    "        gray,\n",
    "        scaleFactor=1.2,\n",
    "        minNeighbors=5,\n",
    "        minSize=(20, 20))\n",
    "    \n",
    "    # A cada cara detectada le agregamos un rectángulo alrededor\n",
    "    for (x, y, w, h) in faces:\n",
    "        cv2.rectangle(img,(x, y), (x + w, y + h),(255, 0, 0), 2)\n",
    "        roi_gray = gray[y:y + h, x:x + w]\n",
    "        roi_color = img[y:y + h, x:x + w]\n",
    "\n",
    "    cv2.imshow('video', img)\n",
    "    \n",
    "    # Esperamos a que se presione la tecla ESC para terminar\n",
    "    k = cv2.waitKey(30) & 0xff\n",
    "    if k == 27: \n",
    "        break\n",
    "        \n",
    "cap.release()\n",
    "cv2.destroyAllWindows()"
   ]
  },
  {
   "cell_type": "markdown",
   "metadata": {},
   "source": [
    "## FIN!"
   ]
  }
 ],
 "metadata": {
  "kernelspec": {
   "display_name": "Python 3",
   "language": "python",
   "name": "python3"
  },
  "language_info": {
   "codemirror_mode": {
    "name": "ipython",
    "version": 3
   },
   "file_extension": ".py",
   "mimetype": "text/x-python",
   "name": "python",
   "nbconvert_exporter": "python",
   "pygments_lexer": "ipython3",
   "version": "3.6.4"
  }
 },
 "nbformat": 4,
 "nbformat_minor": 2
}
