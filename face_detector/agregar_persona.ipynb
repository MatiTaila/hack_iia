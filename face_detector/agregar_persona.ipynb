{
 "cells": [
  {
   "cell_type": "markdown",
   "metadata": {},
   "source": [
    "# Generación de base de datos\n",
    "\n",
    "Este script hace básicamente lo mismo que el de detección de caras, pero además guarda las caras que va detectando en cada cuadro del video, generando así una base de datos que luego se utilizará para entrenar el algoritmo de reconocimiento facial.\n",
    "\n",
    "Lo primero que hace es pedirle al usuario que ingrese un número, que será utilizado para identificar a la persona. La idea es que la primer persona lleve el número 1, la segunda el 2, y así sucesivamente.\n",
    "Está configurado para que guarde 50 imágenes de cada persona, pero es una variable (`n_imagenes`) fácilmente editable.\n",
    "Al terminar de capturar las 50 imágenes y guardarlas el programa termina."
   ]
  },
  {
   "cell_type": "code",
   "execution_count": 4,
   "metadata": {},
   "outputs": [
    {
     "name": "stdout",
     "output_type": "stream",
     "text": [
      "\n",
      " Ingresar el identificador de la persona y presionar <ENTER> ==>  2\n",
      "\n",
      " Inicializando la captura de las imágenes, mire a la cámara y espere unos instantes...\n",
      "Fin\n"
     ]
    }
   ],
   "source": [
    "import cv2\n",
    "import os\n",
    "\n",
    "n_imagenes = 50\n",
    "\n",
    "cam = cv2.VideoCapture(0)\n",
    "cam.set(3, 640) \n",
    "cam.set(4, 480) \n",
    "\n",
    "face_detector = cv2.CascadeClassifier('default.xml')\n",
    "\n",
    "# Ingresar un identificador para cada persona.\n",
    "face_id = input('\\n Ingresar el identificador de la persona y presionar <ENTER> ==>  ')\n",
    "print(\"\\n Inicializando la captura de las imágenes, mire a la cámara y espere unos instantes...\")\n",
    "\n",
    "save_dir = \"./dataset\"\n",
    "if not os.path.exists(save_dir):\n",
    "    os.makedirs(save_dir)\n",
    "\n",
    "count = 0\n",
    "while True:\n",
    "\n",
    "    ret, img = cam.read()\n",
    "    gray = cv2.cvtColor(img, cv2.COLOR_BGR2GRAY)\n",
    "    faces = face_detector.detectMultiScale(gray, 1.3, 5)\n",
    "\n",
    "    for (x,y,w,h) in faces:\n",
    "        cv2.rectangle(img, (x,y), (x+w,y+h), (255,0,0), 2)\n",
    "        count += 1\n",
    "        # Save the captured image into the datasets folder\n",
    "        cv2.imwrite(save_dir + \"/persona.\" + str(face_id) + '.im' + str(count) + \".jpg\", gray[y:y+h,x:x+w])\n",
    "        cv2.imshow('image', img)\n",
    "\n",
    "    # Parar la captura cuando apretamos la tecla ESC o capturamos 50 imágemes\n",
    "    k = cv2.waitKey(100) & 0xff \n",
    "    if ((k == 27) | (count >= n_imagenes)):\n",
    "        break\n",
    "\n",
    "print(\"Fin\")\n",
    "\n",
    "cam.release()\n",
    "cv2.destroyAllWindows()"
   ]
  },
  {
   "cell_type": "markdown",
   "metadata": {},
   "source": [
    "## FIN!"
   ]
  }
 ],
 "metadata": {
  "kernelspec": {
   "display_name": "Python 3",
   "language": "python",
   "name": "python3"
  },
  "language_info": {
   "codemirror_mode": {
    "name": "ipython",
    "version": 3
   },
   "file_extension": ".py",
   "mimetype": "text/x-python",
   "name": "python",
   "nbconvert_exporter": "python",
   "pygments_lexer": "ipython3",
   "version": "3.6.4"
  }
 },
 "nbformat": 4,
 "nbformat_minor": 2
}
