{
  "nbformat": 4,
  "nbformat_minor": 0,
  "metadata": {
    "kernelspec": {
      "display_name": "Python 3",
      "language": "python",
      "name": "python3"
    },
    "language_info": {
      "codemirror_mode": {
        "name": "ipython",
        "version": 3
      },
      "file_extension": ".py",
      "mimetype": "text/x-python",
      "name": "python",
      "nbconvert_exporter": "python",
      "pygments_lexer": "ipython3",
      "version": "3.7.3"
    },
    "colab": {
      "name": "Clasificacion de imagenes con kNN.ipynb",
      "provenance": [],
      "collapsed_sections": [],
      "include_colab_link": true
    }
  },
  "cells": [
    {
      "cell_type": "markdown",
      "metadata": {
        "id": "view-in-github",
        "colab_type": "text"
      },
      "source": [
        "<a href=\"https://colab.research.google.com/github/MatiTaila/hack_iia/blob/ia-2003/image_clasification/Clasificacion%20de%20imagenes%20con%20kNN.ipynb\" target=\"_parent\"><img src=\"https://colab.research.google.com/assets/colab-badge.svg\" alt=\"Open In Colab\"/></a>"
      ]
    },
    {
      "cell_type": "markdown",
      "metadata": {
        "colab_type": "text",
        "id": "6bYouEBTxjgQ"
      },
      "source": [
        "# Clasificación de imágenes con kNN\n",
        "\n",
        "En este ejercicio retomaremos el algoritmo de kNN visto en la clase anterior, pero esta vez aplicado a un caso real, de clasificación de imágenes.\n",
        "\n",
        "\n",
        "## Configuración\n",
        "Montaremos el drive y luego apuntaremos al directorio correcto par descargar un dataset de imágenes, utilizando el script `get_datasets.sh`\n",
        "\n",
        "## Dataset\n",
        "\n",
        "El dataset se compone de 60.000 imágenes de 32x32 clasificadas en 10 categorías"
      ]
    },
    {
      "cell_type": "code",
      "metadata": {
        "colab_type": "code",
        "id": "f5TRbcHaxjgU",
        "colab": {}
      },
      "source": [
        "from google.colab import drive\n",
        "drive.mount('/content/drive')"
      ],
      "execution_count": 0,
      "outputs": []
    },
    {
      "cell_type": "code",
      "metadata": {
        "colab_type": "code",
        "id": "lUjd3mE5xjgZ",
        "colab": {}
      },
      "source": [
        "import os\n",
        "os.chdir('/content/drive/My Drive/hack_iia/image_clasification/')  #change dir\n",
        "!pwd"
      ],
      "execution_count": 0,
      "outputs": []
    },
    {
      "cell_type": "code",
      "metadata": {
        "colab_type": "code",
        "id": "BnsIh6A8xjgd",
        "colab": {}
      },
      "source": [
        "%%shell\n",
        ". get_datasets.sh"
      ],
      "execution_count": 0,
      "outputs": []
    },
    {
      "cell_type": "markdown",
      "metadata": {
        "id": "xgIKYbn1nP0s",
        "colab_type": "text"
      },
      "source": [
        "## Implementación del clasificador\n",
        "Primero, importamos las librerías necesarias"
      ]
    },
    {
      "cell_type": "code",
      "metadata": {
        "id": "cr0vZuj2nP0u",
        "colab_type": "code",
        "colab": {}
      },
      "source": [
        "from __future__ import print_function\n",
        "\n",
        "import random\n",
        "import numpy as np\n",
        "from data_utils import load_CIFAR10\n",
        "import matplotlib.pyplot as plt\n",
        "\n",
        "%matplotlib inline\n",
        "plt.rcParams['figure.figsize'] = (10.0, 8.0) # set default size of plots\n",
        "plt.rcParams['image.interpolation'] = 'nearest'\n",
        "plt.rcParams['image.cmap'] = 'gray'"
      ],
      "execution_count": 0,
      "outputs": []
    },
    {
      "cell_type": "markdown",
      "metadata": {
        "id": "veTXyJnwnP0y",
        "colab_type": "text"
      },
      "source": [
        "Luego cargamos los datos"
      ]
    },
    {
      "cell_type": "code",
      "metadata": {
        "id": "WCDsvZXgnP0z",
        "colab_type": "code",
        "colab": {}
      },
      "source": [
        "cifar10_dir = 'cifar-10-batches-py'\n",
        "X_train, y_train, X_test, y_test = load_CIFAR10(cifar10_dir)\n",
        "print(X_train.shape)\n",
        "print(X_test.shape)"
      ],
      "execution_count": 0,
      "outputs": []
    },
    {
      "cell_type": "markdown",
      "metadata": {
        "id": "XM71m_sWnP03",
        "colab_type": "text"
      },
      "source": [
        "Y visualizamos algunos ejemplos"
      ]
    },
    {
      "cell_type": "code",
      "metadata": {
        "id": "gTl92KYcnP05",
        "colab_type": "code",
        "colab": {}
      },
      "source": [
        "classes = ['plane', 'car', 'bird', 'cat', 'deer', 'dog', 'frog', 'horse', 'ship', 'truck']\n",
        "num_classes = len(classes)\n",
        "samples_per_class = 7\n",
        "for y, cls in enumerate(classes):\n",
        "    idxs = np.flatnonzero(y_train == y)\n",
        "    idxs = np.random.choice(idxs, samples_per_class, replace=False)\n",
        "    for i, idx in enumerate(idxs):\n",
        "        plt_idx = i * num_classes + y + 1\n",
        "        plt.subplot(samples_per_class, num_classes, plt_idx)\n",
        "        plt.imshow(X_train[idx].astype('uint8'))\n",
        "        plt.axis('off')\n",
        "        if i == 0:\n",
        "            plt.title(cls)\n",
        "plt.show()"
      ],
      "execution_count": 0,
      "outputs": []
    },
    {
      "cell_type": "markdown",
      "metadata": {
        "id": "myNCPLjpnP08",
        "colab_type": "text"
      },
      "source": [
        "Aquí simplemente vamos a submuestrear nuestro dataset para quedarnos con menos datos y hacer el ejercicio más ágil."
      ]
    },
    {
      "cell_type": "code",
      "metadata": {
        "id": "c1C-1dyhnP09",
        "colab_type": "code",
        "colab": {}
      },
      "source": [
        "# Subsample the data for more efficient code execution in this exercise\n",
        "num_training = 5000\n",
        "mask = range(num_training)\n",
        "X_train = X_train[mask]\n",
        "y_train = y_train[mask]\n",
        "\n",
        "num_test = 500\n",
        "mask = range(num_test)\n",
        "X_test = X_test[mask]\n",
        "y_test = y_test[mask]"
      ],
      "execution_count": 0,
      "outputs": []
    },
    {
      "cell_type": "markdown",
      "metadata": {
        "id": "nj1akw9NnP1B",
        "colab_type": "text"
      },
      "source": [
        "Ahora vamos a cambiarle la forma a las imágenes. \n",
        "Las tenemos en 3D, de la forma `[ancho] x [alto] x [canales]`, pero las necesitamos como un vector de `[1] x [ancho x alto x canales]`\n"
      ]
    },
    {
      "cell_type": "code",
      "metadata": {
        "id": "HlXydnXZnP1D",
        "colab_type": "code",
        "colab": {}
      },
      "source": [
        "X_train = np.reshape(X_train, (X_train.shape[0], -1))\n",
        "X_test = np.reshape(X_test, (X_test.shape[0], -1))\n",
        "print (X_train.shape, X_test.shape)"
      ],
      "execution_count": 0,
      "outputs": []
    },
    {
      "cell_type": "markdown",
      "metadata": {
        "id": "fj7dLJaDnP1H",
        "colab_type": "text"
      },
      "source": [
        "## Implementación de kNN \n",
        "Aquí presentamos una implementación eficiente de kNN.\n",
        "Creamos una clase con los métodos necesarios."
      ]
    },
    {
      "cell_type": "code",
      "metadata": {
        "id": "77PGE__7nP1I",
        "colab_type": "code",
        "colab": {}
      },
      "source": [
        "class KNearestNeighbor(object):\n",
        "\n",
        "  def __init__(self):\n",
        "    pass\n",
        "\n",
        "  def train(self, X, y):\n",
        "    self.X_train = X\n",
        "    self.y_train = y\n",
        "    \n",
        "  def predict(self, X, k=1):\n",
        "    dists = self.compute_distances(X)\n",
        "    return self.predict_labels(dists, k=k)\n",
        "\n",
        "  def compute_distances(self, X):\n",
        "    num_test = X.shape[0]\n",
        "    num_train = self.X_train.shape[0]\n",
        "    dists = np.zeros((num_test, num_train)) \n",
        "\n",
        "    # Rellenar aqui\n",
        "    # ------------------------------------------------------------------------------\n",
        "    # Calcular la matriz dists, donde el elemento (i,j) debe contener la distancia \n",
        "    # entre el punto i de test y el punto j de train\n",
        "    # \n",
        "    dists = None  # Editar esta linea y agregar lo que sea necesario\n",
        "    # \n",
        "    # ==============================================================================\n",
        "    \n",
        "    \n",
        "    return dists\n",
        "\n",
        "  def predict_labels(self, dists, k=1):\n",
        "        \n",
        "    # Rellenar aqui\n",
        "    # ------------------------------------------------------------------------------\n",
        "    # Calcular y_pred, un vector con las etiquetas de cada punto de test.\n",
        "    # \n",
        "    y_pred = None  # Editar esta linea y agregar lo que sea necesario\n",
        "    # \n",
        "    # ==============================================================================\n",
        "    \n",
        "    return y_pred"
      ],
      "execution_count": 0,
      "outputs": []
    },
    {
      "cell_type": "markdown",
      "metadata": {
        "id": "STzRIJH2nP1M",
        "colab_type": "text"
      },
      "source": [
        "## Entrenamiento \n",
        "\n",
        "Ahora que tenemos la clase creada y los datos ordenados, el entrenamiento es muy sencillo:"
      ]
    },
    {
      "cell_type": "code",
      "metadata": {
        "id": "s1zMdNOvnP1N",
        "colab_type": "code",
        "colab": {}
      },
      "source": [
        "classifier = KNearestNeighbor()\n",
        "classifier.train(X_train, y_train)\n",
        "dists = classifier.compute_distances(X_test)\n",
        "print(dists.shape)"
      ],
      "execution_count": 0,
      "outputs": []
    },
    {
      "cell_type": "markdown",
      "metadata": {
        "id": "OqL0eFUanP1R",
        "colab_type": "text"
      },
      "source": [
        "A continuación se presenta una forma de visualizar las distancias entre cada punto de test y cada punto de entrenamiento.\n",
        "\n",
        "Los valoes más claros significan distancias más grandes, mientras los valores más oscuros distancias menores."
      ]
    },
    {
      "cell_type": "code",
      "metadata": {
        "id": "czb8u8DOnP1S",
        "colab_type": "code",
        "colab": {}
      },
      "source": [
        "plt.imshow(dists, interpolation='none')\n",
        "plt.show()"
      ],
      "execution_count": 0,
      "outputs": []
    },
    {
      "cell_type": "markdown",
      "metadata": {
        "id": "h5PcxAXBnP1W",
        "colab_type": "text"
      },
      "source": [
        "Nota: lo único que se está comparando es el valor de los píxeles de cada imagen. Por lo tanto, un valor muy blanco en la posición [i,j] de la representación anterior implica que los píxeles de las imágenes [i] y [j] son muy distintos. Por ello, si toda una fila presenta valores muy \"blancos\" (en esta representación), quiere decir que la imágen de test [i] es muy distinta a todas las de entrenamiento. Análogamente una columna [j] muy blanca nos dice que la imágen [j] de entrenamiento es muy distinta a todas las de test. \"Distinta\" en este caso refiere solamente a los valores de los píxeles."
      ]
    },
    {
      "cell_type": "markdown",
      "metadata": {
        "id": "QfTC6tHJnP1X",
        "colab_type": "text"
      },
      "source": [
        "## Precicción\n",
        "\n",
        "Ahora simplemente ejecutamos la predicción y calculamos nuestra performance"
      ]
    },
    {
      "cell_type": "code",
      "metadata": {
        "id": "h_1F0Ie-nP1X",
        "colab_type": "code",
        "colab": {}
      },
      "source": [
        "y_test_pred = classifier.predict_labels(dists, k=5)\n",
        "\n",
        "num_correct = np.sum(y_test_pred == y_test)\n",
        "accuracy = float(num_correct) / num_test\n",
        "print('Obtuvimos %d / %d correctas => Precisión: %f' % (num_correct, num_test, accuracy))"
      ],
      "execution_count": 0,
      "outputs": []
    },
    {
      "cell_type": "markdown",
      "metadata": {
        "id": "Wn7N0H3LnP1a",
        "colab_type": "text"
      },
      "source": [
        "## ¡FIN!"
      ]
    }
  ]
}