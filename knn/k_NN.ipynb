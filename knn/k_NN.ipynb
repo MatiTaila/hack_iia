{
  "nbformat": 4,
  "nbformat_minor": 0,
  "metadata": {
    "kernelspec": {
      "display_name": "Python 3",
      "language": "python",
      "name": "python3"
    },
    "language_info": {
      "codemirror_mode": {
        "name": "ipython",
        "version": 3
      },
      "file_extension": ".py",
      "mimetype": "text/x-python",
      "name": "python",
      "nbconvert_exporter": "python",
      "pygments_lexer": "ipython3",
      "version": "3.7.3"
    },
    "colab": {
      "name": "k-NN.ipynb",
      "provenance": [],
      "collapsed_sections": [],
      "include_colab_link": true
    }
  },
  "cells": [
    {
      "cell_type": "markdown",
      "metadata": {
        "id": "view-in-github",
        "colab_type": "text"
      },
      "source": [
        "<a href=\"https://colab.research.google.com/github/MatiTaila/hack_iia/blob/master/knn/k_NN.ipynb\" target=\"_parent\"><img src=\"https://colab.research.google.com/assets/colab-badge.svg\" alt=\"Open In Colab\"/></a>"
      ]
    },
    {
      "cell_type": "markdown",
      "metadata": {
        "id": "O_nvxI524N5r",
        "colab_type": "text"
      },
      "source": [
        "\n",
        "# Ejercicio k-Nearest Neighbor (kNN)\n",
        "\n"
      ]
    },
    {
      "cell_type": "markdown",
      "metadata": {
        "id": "aJtwb9r-4N5u",
        "colab_type": "text"
      },
      "source": [
        "Empezamos importando las librerías de Python necesarias para este ejemplo"
      ]
    },
    {
      "cell_type": "code",
      "metadata": {
        "id": "x3zIZmD04N5v",
        "colab_type": "code",
        "colab": {}
      },
      "source": [
        "import numpy as np\n",
        "import matplotlib.pyplot as plt"
      ],
      "execution_count": 0,
      "outputs": []
    },
    {
      "cell_type": "markdown",
      "metadata": {
        "id": "szul_bPj4N5z",
        "colab_type": "text"
      },
      "source": [
        "## Generación de las muestras de ejemplo\n",
        "\n",
        "Ahora vamos a generar 100 puntos alearios con distrubuciones:\n",
        "- _100_ puntos siguiendo la distribución 1: Distribución Gaussiana de media _(0,0)_ y varianza _1_\n",
        "- _100_ puntos siguiendo la distribución 2: Distribución Gaussiana de media _(1,1)_ y varianza _0.5_\n",
        "\n",
        "Luego concatenamos estos dos vectores, obteniendo `x_train`, de dimensión _200_\n",
        "\n",
        "`y_train` son las etiquetas. Tiene un \"1\" en la posición \"i\" si el elemento _i-ésimo_ fue muestreado con la distrubución 1 (tiene un 2 si fue muestreado con la distribución 2).\n",
        "\n",
        "Creamos aleatoriamente un punto para testear: `x_test`. El objetivo de todo este problema es estimar `y_test`, la etiqueta que le asignaremos a `x_test`\n",
        "\n",
        "Por último vamos a plotear los puntos que creamos"
      ]
    },
    {
      "cell_type": "code",
      "metadata": {
        "id": "5o36EaHX4N51",
        "colab_type": "code",
        "outputId": "f52f9048-99e7-421b-d892-1c6e3594f498",
        "colab": {
          "base_uri": "https://localhost:8080/",
          "height": 282
        }
      },
      "source": [
        "n_points = 100\n",
        "\n",
        "x_train1 = np.random.multivariate_normal([0, 0], [[1, 0],[0, 1]], n_points)\n",
        "x_train2 = np.random.multivariate_normal([1, 1], [[0.5, 0], [0, 0.5]], n_points)\n",
        "x_train = np.vstack((x_train1, x_train2))\n",
        "\n",
        "y_train = np.hstack((np.ones(n_points, dtype=np.int), 2 * np.ones(n_points, dtype=np.int)))\n",
        "\n",
        "x_test = np.random.multivariate_normal([0, 0], [[1, 0],[0, 1]], 1)\n",
        "\n",
        "plt.figure()\n",
        "plt.scatter(x_train1[:, 0], x_train1[:, 1], alpha=0.5)\n",
        "plt.scatter(x_train2[:, 0], x_train2[:, 1], alpha=0.5)\n",
        "plt.scatter(x_test[0, 0], x_test[0, 1], color='green', s=200, alpha=0.8)"
      ],
      "execution_count": 0,
      "outputs": [
        {
          "output_type": "execute_result",
          "data": {
            "text/plain": [
              "<matplotlib.collections.PathCollection at 0x7f4387844b38>"
            ]
          },
          "metadata": {
            "tags": []
          },
          "execution_count": 4
        },
        {
          "output_type": "display_data",
          "data": {
            "image/png": "[encoded data removed]",
            "text/plain": [
              "<Figure size 432x288 with 1 Axes>"
            ]
          },
          "metadata": {
            "tags": []
          }
        }
      ]
    },
    {
      "cell_type": "markdown",
      "metadata": {
        "id": "1MvavnoQ4N55",
        "colab_type": "text"
      },
      "source": [
        "## Implementación de k-NN\n",
        "\n",
        "- Definimos _K_\n",
        "- Calculamos las distancias\n",
        "- Ordenamos según las distancias de menor a mayor y nos quedamos con los primeros _K_\n",
        "- Calculamos la clase predicha por mayoría"
      ]
    },
    {
      "cell_type": "code",
      "metadata": {
        "id": "5lzY8vws4N56",
        "colab_type": "code",
        "outputId": "8542673c-36cf-447b-b33a-9a9faea12efe",
        "colab": {
          "base_uri": "https://localhost:8080/",
          "height": 70
        }
      },
      "source": [
        "K = 5\n",
        "\n",
        "# Rellenar aqui\n",
        "# ------------------------------------------------------------------------------\n",
        "# Debemos calcular \"d\", que debe representar la distancia euclídea entre el \n",
        "# punto del espacio x_test y cada uno de los puntos x_train. \n",
        "# En la posición i del vector d, debe estar la distancia entre x_test y el \n",
        "# i-esimo elemento de x_train\n",
        "# \n",
        "# d = ...\n",
        "# \n",
        "# ==============================================================================\n",
        "\n",
        "# Obtenemos los índices de las distacias ordenados de menor a mayor, y nos \n",
        "# quedamos con los K primeros\n",
        "idxs = np.argsort(d)[:K]\n",
        "print(idxs)\n",
        "print(y_train[idxs])\n",
        "\n",
        "# Rellenar aqui\n",
        "# ------------------------------------------------------------------------------\n",
        "# Calcular y_test, la etiqueta del punto de test (x_test). De los K puntos más\n",
        "# cercanos debemos fijarnos la etiqueta, y elegir por mayoría\n",
        "# \n",
        "y_test = np.median(y_train[idxs])\n",
        "# \n",
        "# ==============================================================================\n",
        "\n",
        "# Mensaje de salida\n",
        "print(\"La clase asignada a la nueva muestra es: {0}\".format(y_test))"
      ],
      "execution_count": 0,
      "outputs": [
        {
          "output_type": "stream",
          "text": [
            "[ 30  40 150  96 137]\n",
            "[1 1 2 1 2]\n",
            "La clase asignada a la nueva muestra es: 1.0\n"
          ],
          "name": "stdout"
        }
      ]
    },
    {
      "cell_type": "markdown",
      "metadata": {
        "id": "CsZvY0ay4N59",
        "colab_type": "text"
      },
      "source": [
        "## Visualización\n",
        "Aquí pintamos la muestra de test del color correspondiente"
      ]
    },
    {
      "cell_type": "code",
      "metadata": {
        "id": "xX2R1Irj4N5-",
        "colab_type": "code",
        "outputId": "ecc8e881-be83-4142-9781-4931952a971e",
        "colab": {}
      },
      "source": [
        "# Visualización\n",
        "colors = ['', 'blue', 'orange']\n",
        "\n",
        "plt.figure()\n",
        "plt.scatter(x_train1[:, 0], x_train1[:, 1], alpha=0.5)\n",
        "plt.scatter(x_train2[:, 0], x_train2[:, 1], alpha=0.5)\n",
        "plt.scatter(x_test[0, 0], x_test[0, 1], color=colors[np.int64(y_test)], s=200, alpha=0.8, edgecolor='k')"
      ],
      "execution_count": 0,
      "outputs": [
        {
          "output_type": "execute_result",
          "data": {
            "text/plain": [
              "<matplotlib.collections.PathCollection at 0x1116eeda0>"
            ]
          },
          "metadata": {
            "tags": []
          },
          "execution_count": 13
        },
        {
          "output_type": "display_data",
          "data": {
            "image/png": "[encoded data removed]",
            "text/plain": [
              "<Figure size 432x288 with 1 Axes>"
            ]
          },
          "metadata": {
            "tags": [],
            "needs_background": "light"
          }
        }
      ]
    },
    {
      "cell_type": "markdown",
      "metadata": {
        "id": "RosAzWls4N6C",
        "colab_type": "text"
      },
      "source": [
        "## FIN!"
      ]
    }
  ]
}