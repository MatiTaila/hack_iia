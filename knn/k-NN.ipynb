{
 "cells": [
  {
   "cell_type": "markdown",
   "metadata": {},
   "source": [
    "\n",
    "# Ejercicio k-Nearest Neighbor (kNN)\n",
    "\n"
   ]
  },
  {
   "cell_type": "markdown",
   "metadata": {},
   "source": [
    "Empezamos importando las librerías de Python necesarias para este ejemplo"
   ]
  },
  {
   "cell_type": "code",
   "execution_count": null,
   "metadata": {},
   "outputs": [],
   "source": [
    "import numpy as np\n",
    "import matplotlib.pyplot as plt"
   ]
  },
  {
   "cell_type": "markdown",
   "metadata": {},
   "source": [
    "## Generación de las muestras de ejemplo\n",
    "\n",
    "Ahora vamos a generar 100 puntos alearios con distrubuciones:\n",
    "- _100_ puntos siguiendo la distribución 1: Distribución Gaussiana de media _(0,0)_ y varianza _1_\n",
    "- _100_ puntos siguiendo la distribución 2: Distribución Gaussiana de media _(1,1)_ y varianza _0.5_\n",
    "\n",
    "Luego concatenamos estos dos vectores, obteniendo `x_train`, de dimensión _200_\n",
    "\n",
    "`y_train` son las etiquetas. Tiene un \"1\" en la posición \"i\" si el elemento _i-ésimo_ fue muestreado con la distrubución 1 (tiene un 2 si fue muestreado con la distribución 2).\n",
    "\n",
    "Creamos aleatoriamente un punto para testear: `x_test`. El objetivo de todo este problema es estimar `y_test`, la etiqueta que le asignaremos a `x_test`\n",
    "\n",
    "Por último vamos a plotear los puntos que creamos"
   ]
  },
  {
   "cell_type": "code",
   "execution_count": null,
   "metadata": {},
   "outputs": [],
   "source": [
    "n_points = 100\n",
    "\n",
    "x_train1 = np.random.multivariate_normal([0, 0], [[1, 0],[0, 1]], n_points)\n",
    "x_train2 = np.random.multivariate_normal([1, 1], [[0.5, 0], [0, 0.5]], n_points)\n",
    "x_train = np.vstack((x_train1, x_train2))\n",
    "\n",
    "y_train = np.hstack((np.ones(n_points, dtype=np.int), 2 * np.ones(n_points, dtype=np.int)))\n",
    "\n",
    "x_test = np.random.multivariate_normal([0, 0], [[1, 0],[0, 1]], 1)\n",
    "\n",
    "plt.figure()\n",
    "plt.scatter(x_train1[:, 0], x_train1[:, 1], alpha=0.5)\n",
    "plt.scatter(x_train2[:, 0], x_train2[:, 1], alpha=0.5)\n",
    "plt.scatter(x_test[0, 0], x_test[0, 1], color='green', s=200, alpha=0.8)"
   ]
  },
  {
   "cell_type": "markdown",
   "metadata": {},
   "source": [
    "## Implementación de k-NN\n",
    "\n",
    "- Definimos _K_\n",
    "- Calculamos las distancias\n",
    "- Ordenamos según las distancias de menor a mayor y nos quedamos con los primeros _K_\n",
    "- Calculamos la clase predicha por mayoría"
   ]
  },
  {
   "cell_type": "code",
   "execution_count": null,
   "metadata": {},
   "outputs": [],
   "source": [
    "K = 5\n",
    "\n",
    "# Rellenar aqui\n",
    "# ------------------------------------------------------------------------------\n",
    "# Debemos calcular \"d\", que debe representar la distancia euclídea entre el \n",
    "# punto del espacio x_test y cada uno de los puntos x_train. \n",
    "# En la posición i del vector d, debe estar la distancia entre x_test y el \n",
    "# i-esimo elemento de x_train\n",
    "# \n",
    "d = \n",
    "# \n",
    "# ==============================================================================\n",
    "\n",
    "# Obtenemos los índices de las distacias ordenados de menor a mayor, y nos \n",
    "# quedamos con los K primeros\n",
    "idxs = np.argsort(d)[:K]\n",
    "\n",
    "\n",
    "# Rellenar aqui\n",
    "# ------------------------------------------------------------------------------\n",
    "# Calcular y_test, la etiqueta del punto de test (x_test). De los K puntos más\n",
    "# cercanos debemos fijarnos la etiqueta, y elegir por mayoría\n",
    "# \n",
    "y_test = \n",
    "# \n",
    "# ==============================================================================\n",
    "\n",
    "# Mensaje de salida\n",
    "print(\"La clase asignada a la nueva muestra es: {0}\".format(y_test))"
   ]
  },
  {
   "cell_type": "markdown",
   "metadata": {},
   "source": [
    "## Visualización\n",
    "Aquí pintamos la muestra de test del color correspondiente"
   ]
  },
  {
   "cell_type": "code",
   "execution_count": null,
   "metadata": {},
   "outputs": [],
   "source": [
    "# Visualización\n",
    "colors = ['', 'blue', 'orange']\n",
    "\n",
    "plt.figure()\n",
    "plt.scatter(x_train1[:, 0], x_train1[:, 1], alpha=0.5)\n",
    "plt.scatter(x_train2[:, 0], x_train2[:, 1], alpha=0.5)\n",
    "plt.scatter(x_test[0, 0], x_test[0, 1], color=colors[np.int64(y_test)], s=200, alpha=0.8, edgecolor='k')"
   ]
  },
  {
   "cell_type": "markdown",
   "metadata": {},
   "source": [
    "## FIN!"
   ]
  }
 ],
 "metadata": {
  "kernelspec": {
   "display_name": "Python 3",
   "language": "python",
   "name": "python3"
  },
  "language_info": {
   "codemirror_mode": {
    "name": "ipython",
    "version": 3
   },
   "file_extension": ".py",
   "mimetype": "text/x-python",
   "name": "python",
   "nbconvert_exporter": "python",
   "pygments_lexer": "ipython3",
   "version": "3.7.3"
  }
 },
 "nbformat": 4,
 "nbformat_minor": 2
}
