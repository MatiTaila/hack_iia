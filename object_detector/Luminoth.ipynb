{
  "nbformat": 4,
  "nbformat_minor": 0,
  "metadata": {
    "colab": {
      "name": "Luminoth.ipynb",
      "provenance": []
    },
    "kernelspec": {
      "name": "python3",
      "display_name": "Python 3"
    },
    "accelerator": "GPU"
  },
  "cells": [
    {
      "cell_type": "markdown",
      "metadata": {
        "id": "XQUJTRB_eC6p",
        "colab_type": "text"
      },
      "source": [
        "## Montar Google Drive ##\n",
        "Para proder acceder a datos guardados en su google drive desde un notebook de colab es necesario ejecutar el siguiente código\n",
        "\n",
        "*Esto va a ser necesario en todos los notebooks de este curso.*\n"
      ]
    },
    {
      "cell_type": "code",
      "metadata": {
        "id": "ffntnzw0d6dt",
        "colab_type": "code",
        "colab": {}
      },
      "source": [
        "from google.colab import drive\n",
        "drive.mount('/content/drive')"
      ],
      "execution_count": 0,
      "outputs": []
    },
    {
      "cell_type": "markdown",
      "metadata": {
        "id": "GY78vLB2J2Ba",
        "colab_type": "text"
      },
      "source": [
        "#### Cambiamos de directorio "
      ]
    },
    {
      "cell_type": "code",
      "metadata": {
        "id": "D0nKyiVPiKAi",
        "colab_type": "code",
        "colab": {}
      },
      "source": [
        "%cd /content/drive/My\\ Drive/hack_iia/object_detector"
      ],
      "execution_count": 0,
      "outputs": []
    },
    {
      "cell_type": "markdown",
      "metadata": {
        "id": "tlHgx8dCJ95O",
        "colab_type": "text"
      },
      "source": [
        "#### Importar paquetes necesarios"
      ]
    },
    {
      "cell_type": "code",
      "metadata": {
        "id": "YDwUEgkEJDjA",
        "colab_type": "code",
        "colab": {}
      },
      "source": [
        "import matplotlib.pyplot as plt\n",
        "from PIL import Image"
      ],
      "execution_count": 0,
      "outputs": []
    },
    {
      "cell_type": "markdown",
      "metadata": {
        "id": "Hrj5jxKlKHNQ",
        "colab_type": "text"
      },
      "source": [
        "#### Cambiamos la version de tensorflow e instalamos luminoth"
      ]
    },
    {
      "cell_type": "code",
      "metadata": {
        "id": "h2aJo8P2ZqDI",
        "colab_type": "code",
        "colab": {}
      },
      "source": [
        "! pip install -U tensorflow-gpu==1.13.2"
      ],
      "execution_count": 0,
      "outputs": []
    },
    {
      "cell_type": "code",
      "metadata": {
        "id": "q4taTlErLNJI",
        "colab_type": "code",
        "colab": {}
      },
      "source": [
        "!pip install luminoth"
      ],
      "execution_count": 0,
      "outputs": []
    },
    {
      "cell_type": "markdown",
      "metadata": {
        "id": "7WpI0m30KPD3",
        "colab_type": "text"
      },
      "source": [
        "### Uso de Luminoth\n",
        "1. Refrescamos la lista de modelos dispobibles\n",
        "2. Listamos los modelos disponibles\n",
        "3. Bajamos el modelo Accurate\n",
        "4. Hacemos una predicion\n",
        "5. Bajamos el modelo Fast\n",
        "6. Hacemos predicciones y las mostramos"
      ]
    },
    {
      "cell_type": "code",
      "metadata": {
        "id": "6zdeXYomLiBk",
        "colab_type": "code",
        "colab": {}
      },
      "source": [
        "! lumi checkpoint refresh"
      ],
      "execution_count": 0,
      "outputs": []
    },
    {
      "cell_type": "code",
      "metadata": {
        "id": "GUzTxzUUaXhg",
        "colab_type": "code",
        "colab": {}
      },
      "source": [
        "! lumi checkpoint list"
      ],
      "execution_count": 0,
      "outputs": []
    },
    {
      "cell_type": "code",
      "metadata": {
        "id": "GOiJh76xdJnu",
        "colab_type": "code",
        "colab": {}
      },
      "source": [
        "!lumi checkpoint download accurate "
      ],
      "execution_count": 0,
      "outputs": []
    },
    {
      "cell_type": "code",
      "metadata": {
        "id": "ixCImKtJjtcf",
        "colab_type": "code",
        "colab": {}
      },
      "source": [
        "!lumi predict in/img_01.jpg"
      ],
      "execution_count": 0,
      "outputs": []
    },
    {
      "cell_type": "code",
      "metadata": {
        "id": "sAehT-tcj0Mt",
        "colab_type": "code",
        "colab": {}
      },
      "source": [
        "!lumi checkpoint download fast"
      ],
      "execution_count": 0,
      "outputs": []
    },
    {
      "cell_type": "code",
      "metadata": {
        "id": "k26G2KZFkmuY",
        "colab_type": "code",
        "colab": {}
      },
      "source": [
        "! lumi predict --checkpoint=fast in/img_01.jpg -d out/"
      ],
      "execution_count": 0,
      "outputs": []
    },
    {
      "cell_type": "code",
      "metadata": {
        "id": "4SmpJDTFltb7",
        "colab_type": "code",
        "colab": {}
      },
      "source": [
        "img = Image.open('./out/pred_img_01.jpg',)\n",
        "plt.figure(figsize=(10,10))\n",
        "plt.imshow(img)\n",
        "plt.axis('off')\n",
        "plt.show()"
      ],
      "execution_count": 0,
      "outputs": []
    },
    {
      "cell_type": "code",
      "metadata": {
        "id": "ZbsYSTbTJikl",
        "colab_type": "code",
        "colab": {}
      },
      "source": [
        "! lumi predict --checkpoint=accurate in/img_01.jpg -d out/"
      ],
      "execution_count": 0,
      "outputs": []
    },
    {
      "cell_type": "code",
      "metadata": {
        "id": "GUT296jDJmoL",
        "colab_type": "code",
        "colab": {}
      },
      "source": [
        "img = Image.open('./out/pred_img_01.jpg',)\n",
        "plt.figure(figsize=(10,10))\n",
        "plt.imshow(img)\n",
        "plt.axis('off')\n",
        "plt.show()"
      ],
      "execution_count": 0,
      "outputs": []
    }
  ]
}